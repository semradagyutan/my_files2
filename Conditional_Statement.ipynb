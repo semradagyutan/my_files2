{
 "cells": [
  {
   "cell_type": "code",
   "execution_count": 1,
   "metadata": {},
   "outputs": [
    {
     "name": "stdout",
     "output_type": "stream",
     "text": [
      "Enter a value = 52\n",
      "Enter a value = 40\n",
      "11.11111111111111\n",
      "104.0\n"
     ]
    }
   ],
   "source": [
    "F = int(input(\"Enter a value = \"))\n",
    "C = int(input(\"Enter a value = \"))\n",
    "Fahreneit = C*(9/5)+32\n",
    "Celcius = (5/9) * (F - 32)\n",
    "print(Celcius)\n",
    "print(Fahreneit)"
   ]
  },
  {
   "cell_type": "code",
   "execution_count": 6,
   "metadata": {},
   "outputs": [
    {
     "name": "stdout",
     "output_type": "stream",
     "text": [
      "Salary : 20\n",
      "Year :6\n",
      "1.0\n"
     ]
    }
   ],
   "source": [
    "salary = int(input(\"Salary : \"))\n",
    "year = int(input(\"Year :\"))\n",
    "\n",
    "if year>5:\n",
    "    bonus = salary*0.05\n",
    "    print(bonus)\n"
   ]
  },
  {
   "cell_type": "code",
   "execution_count": 12,
   "metadata": {},
   "outputs": [
    {
     "name": "stdout",
     "output_type": "stream",
     "text": [
      "First person:25\n",
      "Second person5\n",
      "Third person:6\n",
      "Oldest 25\n",
      "Youngest: 5\n"
     ]
    }
   ],
   "source": [
    "a = int(input(\"First person:\"))\n",
    "b = int(input(\"Second person\"))\n",
    "c = int(input(\"Third person:\"))\n",
    "if a>b and a>c:\n",
    "    print(\"Oldest\",a)\n",
    "elif b>c and b>a:\n",
    "    print(\"Oldest\",b)\n",
    "else:\n",
    "    print(\"Oldest\",c)\n",
    "if a<b and a<c:\n",
    "    print(\"Youngest:\",a)\n",
    "if b<a and b<c:\n",
    "    print(\"Youngest:\",b)\n",
    "else:\n",
    "    print(\"Youngest\",c)"
   ]
  },
  {
   "cell_type": "code",
   "execution_count": 17,
   "metadata": {},
   "outputs": [
    {
     "name": "stdout",
     "output_type": "stream",
     "text": [
      "Number of classes held:50\n",
      "Number of classes attended:40\n",
      "Persantage: 0.8 \n",
      "You can attend\n"
     ]
    }
   ],
   "source": [
    "lesson_count = int(input(\"Number of classes held:\"))\n",
    "class_attended = int(input(\"Number of classes attended:\"))\n",
    "if class_attended/lesson_count>=0.75:\n",
    "    print(\"Persantage:\",class_attended/lesson_count,\"\\nYou can attend\")\n",
    "else:\n",
    "    print(\"You cannot attend\")"
   ]
  },
  {
   "cell_type": "code",
   "execution_count": 33,
   "metadata": {},
   "outputs": [
    {
     "name": "stdout",
     "output_type": "stream",
     "text": [
      "Enter a letter:s\n",
      "the letter is a consonant.\n"
     ]
    }
   ],
   "source": [
    "char = input(\"Enter a letter:\")\n",
    "if char == \"a\" or char ==\"e\" or char ==\"i\" or char ==\"u\" or char ==\"o\":\n",
    "    print(\"the entered letter is a vowel.\")\n",
    "elif char ==\"y\":\n",
    "    print(\"y is sometimes a vowel and sometimes a consonant.\")\n",
    "else:\n",
    "    print(\"the letter is a consonant.\")"
   ]
  },
  {
   "cell_type": "code",
   "execution_count": null,
   "metadata": {},
   "outputs": [],
   "source": []
  }
 ],
 "metadata": {
  "kernelspec": {
   "display_name": "Python 3",
   "language": "python",
   "name": "python3"
  },
  "language_info": {
   "codemirror_mode": {
    "name": "ipython",
    "version": 3
   },
   "file_extension": ".py",
   "mimetype": "text/x-python",
   "name": "python",
   "nbconvert_exporter": "python",
   "pygments_lexer": "ipython3",
   "version": "3.8.3"
  }
 },
 "nbformat": 4,
 "nbformat_minor": 4
}

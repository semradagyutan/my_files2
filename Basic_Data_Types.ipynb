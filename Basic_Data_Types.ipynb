{
 "cells": [
  {
   "cell_type": "code",
   "execution_count": 5,
   "metadata": {},
   "outputs": [
    {
     "name": "stdout",
     "output_type": "stream",
     "text": [
      "result 2210.6814074060812\n",
      "final growth rate:  1210.6814074060812\n"
     ]
    }
   ],
   "source": [
    "a = 1000\n",
    "b = 0.12\n",
    "c = 7\n",
    "result = a*((1+b)**c)\n",
    "final_growth_rate = result -a\n",
    "\n",
    "print(\"result\", result)\n",
    "print(\"final growth rate: \",final_growth_rate)\n"
   ]
  },
  {
   "cell_type": "code",
   "execution_count": 6,
   "metadata": {},
   "outputs": [
    {
     "name": "stdout",
     "output_type": "stream",
     "text": [
      "When we buy bitcoin with 1000 USD at the beginning of the week, we would earn 1210.68 USD at the end of the week, \n",
      " with an average gain of 12\\%.\n"
     ]
    }
   ],
   "source": [
    "text = \"When we buy bitcoin with {} USD at the beginning of the week, we would earn {} USD at the end of the week, \\n with an average gain of {}\\%.\"\n",
    "a = 1000\n",
    "b = 1210.68\n",
    "c = 12\n",
    "print(text.format(a,b,c))"
   ]
  },
  {
   "cell_type": "code",
   "execution_count": 53,
   "metadata": {},
   "outputs": [
    {
     "name": "stdout",
     "output_type": "stream",
     "text": [
      "Enter a value = 45\n",
      "7.222222222222222\n"
     ]
    }
   ],
   "source": [
    "F = int(input(\"Enter a value = \"))\n",
    "C = (5/9) * (F - 32)\n",
    "print(C)\n"
   ]
  },
  {
   "cell_type": "code",
   "execution_count": 52,
   "metadata": {},
   "outputs": [
    {
     "name": "stdout",
     "output_type": "stream",
     "text": [
      "Enter a value:365\n",
      "The sum of digits in the number is 14\n"
     ]
    }
   ],
   "source": [
    "number = (input(\"Enter a value:\"))\n",
    "print(\"The sum of digits in the number is\" ,int(number[0])+int(number[1])+int(number[2]))\n"
   ]
  },
  {
   "cell_type": "code",
   "execution_count": 51,
   "metadata": {},
   "outputs": [
    {
     "name": "stdout",
     "output_type": "stream",
     "text": [
      "value1: 6\n",
      "value2: 8\n",
      "Hyponetenuse length is :  10.0\n"
     ]
    }
   ],
   "source": [
    "a = int(input('value1: '))\n",
    "b = int(input('value2: '))\n",
    "hypotenuse = (a**2+b**2)**(0.5)\n",
    "print(\"Hyponetenuse length is : \" , hypotenuse)"
   ]
  },
  {
   "cell_type": "code",
   "execution_count": null,
   "metadata": {},
   "outputs": [],
   "source": []
  }
 ],
 "metadata": {
  "kernelspec": {
   "display_name": "Python 3",
   "language": "python",
   "name": "python3"
  },
  "language_info": {
   "codemirror_mode": {
    "name": "ipython",
    "version": 3
   },
   "file_extension": ".py",
   "mimetype": "text/x-python",
   "name": "python",
   "nbconvert_exporter": "python",
   "pygments_lexer": "ipython3",
   "version": "3.8.3"
  }
 },
 "nbformat": 4,
 "nbformat_minor": 4
}

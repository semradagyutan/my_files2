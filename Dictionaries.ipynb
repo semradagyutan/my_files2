{
 "cells": [
  {
   "cell_type": "code",
   "execution_count": 7,
   "metadata": {},
   "outputs": [
    {
     "name": "stdout",
     "output_type": "stream",
     "text": [
      "{'Sunday': 1, 'Monday': 2, 'Tuesday': 3, 'Wednesday': 4, 'Thursday': 5, 'Friday': 6, 'Saturday': 7}\n",
      "Which day:Sunday\n",
      "Which day:Monday\n",
      "{'Tuesday': 3, 'Wednesday': 4, 'Thursday': 5, 'Friday': 6, 'Saturday': 7}\n"
     ]
    }
   ],
   "source": [
    "days = {\n",
    "    \"Sunday\" : 1,\n",
    "    \"Monday\" : 2,\n",
    "    \"Tuesday\" : 3,\n",
    "    \"Wednesday\":4,\n",
    "    \"Thursday\":5,\n",
    "    \"Friday\":6,\n",
    "    \"Saturday\":7\n",
    "}\n",
    "print(days)\n",
    "\n",
    "x = input(\"Which day:\")\n",
    "y = input(\"Which day:\")\n",
    "del days[x]\n",
    "del days[y]\n",
    "print(days)"
   ]
  },
  {
   "cell_type": "code",
   "execution_count": 31,
   "metadata": {},
   "outputs": [
    {
     "name": "stdout",
     "output_type": "stream",
     "text": [
      "{'Karen': 12, 'Sex': 'Male', 'Greg': 7, 'Sex1': 'Male'}\n"
     ]
    }
   ],
   "source": [
    "\n",
    "personels = {\n",
    "    \"John\": {\n",
    "        \"age\":25,\n",
    "        \"sex\":\"Male\"\n",
    "    },\n",
    "\"Lisa\":{\n",
    "    \"age\":28,\n",
    "    \"sex\": \"Female\"\n",
    "},\n",
    "\"Linda\":{\n",
    "    \"age\":32,\n",
    "    \"sex\":\"Female\"\n",
    "\n",
    "    },\n",
    "    \n",
    "\"Michael\":{\n",
    "    \"age\":41,\n",
    "    \"sex\":\"Male\"\n",
    "\n",
    "},\n",
    "}\n",
    "personels[\"Michael\"].update({\"Child\":{\"Karen\":12,\"Sex\":\"Male\",\"Greg\":7,\"Sex1\":\"Male\"}})\n",
    "personels[\"Linda\"].update({\"Child\":{\"Susan\":6,\"Sex\":\"Female\"}})\n",
    "print(personels[\"Michael\"][\"Child\"])"
   ]
  },
  {
   "cell_type": "code",
   "execution_count": null,
   "metadata": {},
   "outputs": [],
   "source": [
    "\n"
   ]
  },
  {
   "cell_type": "code",
   "execution_count": null,
   "metadata": {},
   "outputs": [],
   "source": []
  }
 ],
 "metadata": {
  "kernelspec": {
   "display_name": "Python 3",
   "language": "python",
   "name": "python3"
  },
  "language_info": {
   "codemirror_mode": {
    "name": "ipython",
    "version": 3
   },
   "file_extension": ".py",
   "mimetype": "text/x-python",
   "name": "python",
   "nbconvert_exporter": "python",
   "pygments_lexer": "ipython3",
   "version": "3.8.3"
  }
 },
 "nbformat": 4,
 "nbformat_minor": 4
}
